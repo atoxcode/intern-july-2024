{
 "cells": [
  {
   "cell_type": "code",
   "execution_count": 1,
   "metadata": {},
   "outputs": [],
   "source": [
    "import pandas as pd\n",
    "import matplotlib.pyplot as plt\n",
    "import nltk\n",
    "from nltk.tokenize import word_tokenize\n",
    "from nltk.corpus import stopwords"
   ]
  },
  {
   "cell_type": "code",
   "execution_count": 2,
   "metadata": {},
   "outputs": [],
   "source": [
    "# Load the dataset\n",
    "file_path = 'records.csv'\n",
    "df = pd.read_csv(file_path)"
   ]
  },
  {
   "cell_type": "code",
   "execution_count": 3,
   "metadata": {},
   "outputs": [
    {
     "data": {
      "text/html": [
       "<div>\n",
       "<style scoped>\n",
       "    .dataframe tbody tr th:only-of-type {\n",
       "        vertical-align: middle;\n",
       "    }\n",
       "\n",
       "    .dataframe tbody tr th {\n",
       "        vertical-align: top;\n",
       "    }\n",
       "\n",
       "    .dataframe thead th {\n",
       "        text-align: right;\n",
       "    }\n",
       "</style>\n",
       "<table border=\"1\" class=\"dataframe\">\n",
       "  <thead>\n",
       "    <tr style=\"text-align: right;\">\n",
       "      <th></th>\n",
       "      <th>id</th>\n",
       "      <th>value</th>\n",
       "      <th>record_type_id</th>\n",
       "      <th>activity_target_id</th>\n",
       "      <th>record_type.name</th>\n",
       "      <th>record_type.form_type</th>\n",
       "      <th>record_type.options</th>\n",
       "      <th>record_type.activity_type_id</th>\n",
       "      <th>activity_type.name</th>\n",
       "      <th>activity_type.activity_type_group_id</th>\n",
       "      <th>...</th>\n",
       "      <th>customer.phone</th>\n",
       "      <th>customer.population</th>\n",
       "      <th>customer.room</th>\n",
       "      <th>customer.doctor</th>\n",
       "      <th>customer.birthdate</th>\n",
       "      <th>customer.start_date</th>\n",
       "      <th>customer.care_level</th>\n",
       "      <th>customer.meal_type</th>\n",
       "      <th>customer.sex</th>\n",
       "      <th>customer.left_at</th>\n",
       "    </tr>\n",
       "  </thead>\n",
       "  <tbody>\n",
       "    <tr>\n",
       "      <th>0</th>\n",
       "      <td>66553</td>\n",
       "      <td>Happy</td>\n",
       "      <td>1498</td>\n",
       "      <td>40275</td>\n",
       "      <td>I-emotion</td>\n",
       "      <td>4</td>\n",
       "      <td>[[\"Sad\",false,\"\"],[\"Happy\",false,\"\"],[\"Normal\"...</td>\n",
       "      <td>200</td>\n",
       "      <td>I - Walking</td>\n",
       "      <td>28</td>\n",
       "      <td>...</td>\n",
       "      <td>NaN</td>\n",
       "      <td>NaN</td>\n",
       "      <td>NaN</td>\n",
       "      <td>NaN</td>\n",
       "      <td>NaN</td>\n",
       "      <td>NaN</td>\n",
       "      <td>NaN</td>\n",
       "      <td>NaN</td>\n",
       "      <td>NaN</td>\n",
       "      <td>NaN</td>\n",
       "    </tr>\n",
       "    <tr>\n",
       "      <th>1</th>\n",
       "      <td>66554</td>\n",
       "      <td>36</td>\n",
       "      <td>1496</td>\n",
       "      <td>40275</td>\n",
       "      <td>I-temperature</td>\n",
       "      <td>0</td>\n",
       "      <td>[]</td>\n",
       "      <td>200</td>\n",
       "      <td>I - Walking</td>\n",
       "      <td>28</td>\n",
       "      <td>...</td>\n",
       "      <td>NaN</td>\n",
       "      <td>NaN</td>\n",
       "      <td>NaN</td>\n",
       "      <td>NaN</td>\n",
       "      <td>NaN</td>\n",
       "      <td>NaN</td>\n",
       "      <td>NaN</td>\n",
       "      <td>NaN</td>\n",
       "      <td>NaN</td>\n",
       "      <td>NaN</td>\n",
       "    </tr>\n",
       "    <tr>\n",
       "      <th>2</th>\n",
       "      <td>66555</td>\n",
       "      <td>45</td>\n",
       "      <td>1497</td>\n",
       "      <td>40275</td>\n",
       "      <td>I-weight</td>\n",
       "      <td>0</td>\n",
       "      <td>[]</td>\n",
       "      <td>200</td>\n",
       "      <td>I - Walking</td>\n",
       "      <td>28</td>\n",
       "      <td>...</td>\n",
       "      <td>NaN</td>\n",
       "      <td>NaN</td>\n",
       "      <td>NaN</td>\n",
       "      <td>NaN</td>\n",
       "      <td>NaN</td>\n",
       "      <td>NaN</td>\n",
       "      <td>NaN</td>\n",
       "      <td>NaN</td>\n",
       "      <td>NaN</td>\n",
       "      <td>NaN</td>\n",
       "    </tr>\n",
       "    <tr>\n",
       "      <th>3</th>\n",
       "      <td>66556</td>\n",
       "      <td>Normal</td>\n",
       "      <td>1498</td>\n",
       "      <td>40276</td>\n",
       "      <td>I-emotion</td>\n",
       "      <td>4</td>\n",
       "      <td>[[\"Sad\",false,\"\"],[\"Happy\",false,\"\"],[\"Normal\"...</td>\n",
       "      <td>200</td>\n",
       "      <td>I - Walking</td>\n",
       "      <td>28</td>\n",
       "      <td>...</td>\n",
       "      <td>NaN</td>\n",
       "      <td>NaN</td>\n",
       "      <td>NaN</td>\n",
       "      <td>NaN</td>\n",
       "      <td>NaN</td>\n",
       "      <td>NaN</td>\n",
       "      <td>NaN</td>\n",
       "      <td>NaN</td>\n",
       "      <td>NaN</td>\n",
       "      <td>NaN</td>\n",
       "    </tr>\n",
       "    <tr>\n",
       "      <th>4</th>\n",
       "      <td>66558</td>\n",
       "      <td>35.5</td>\n",
       "      <td>1496</td>\n",
       "      <td>40278</td>\n",
       "      <td>I-temperature</td>\n",
       "      <td>0</td>\n",
       "      <td>[]</td>\n",
       "      <td>200</td>\n",
       "      <td>I - Walking</td>\n",
       "      <td>28</td>\n",
       "      <td>...</td>\n",
       "      <td>NaN</td>\n",
       "      <td>NaN</td>\n",
       "      <td>NaN</td>\n",
       "      <td>NaN</td>\n",
       "      <td>NaN</td>\n",
       "      <td>NaN</td>\n",
       "      <td>NaN</td>\n",
       "      <td>NaN</td>\n",
       "      <td>NaN</td>\n",
       "      <td>NaN</td>\n",
       "    </tr>\n",
       "  </tbody>\n",
       "</table>\n",
       "<p>5 rows × 36 columns</p>\n",
       "</div>"
      ],
      "text/plain": [
       "      id   value  record_type_id  activity_target_id record_type.name  \\\n",
       "0  66553   Happy            1498               40275        I-emotion   \n",
       "1  66554      36            1496               40275    I-temperature   \n",
       "2  66555      45            1497               40275         I-weight   \n",
       "3  66556  Normal            1498               40276        I-emotion   \n",
       "4  66558    35.5            1496               40278    I-temperature   \n",
       "\n",
       "   record_type.form_type                                record_type.options  \\\n",
       "0                      4  [[\"Sad\",false,\"\"],[\"Happy\",false,\"\"],[\"Normal\"...   \n",
       "1                      0                                                 []   \n",
       "2                      0                                                 []   \n",
       "3                      4  [[\"Sad\",false,\"\"],[\"Happy\",false,\"\"],[\"Normal\"...   \n",
       "4                      0                                                 []   \n",
       "\n",
       "   record_type.activity_type_id activity_type.name  \\\n",
       "0                           200        I - Walking   \n",
       "1                           200        I - Walking   \n",
       "2                           200        I - Walking   \n",
       "3                           200        I - Walking   \n",
       "4                           200        I - Walking   \n",
       "\n",
       "   activity_type.activity_type_group_id  ...  customer.phone  \\\n",
       "0                                    28  ...             NaN   \n",
       "1                                    28  ...             NaN   \n",
       "2                                    28  ...             NaN   \n",
       "3                                    28  ...             NaN   \n",
       "4                                    28  ...             NaN   \n",
       "\n",
       "   customer.population  customer.room customer.doctor  customer.birthdate  \\\n",
       "0                  NaN            NaN             NaN                 NaN   \n",
       "1                  NaN            NaN             NaN                 NaN   \n",
       "2                  NaN            NaN             NaN                 NaN   \n",
       "3                  NaN            NaN             NaN                 NaN   \n",
       "4                  NaN            NaN             NaN                 NaN   \n",
       "\n",
       "   customer.start_date  customer.care_level customer.meal_type customer.sex  \\\n",
       "0                  NaN                  NaN                NaN          NaN   \n",
       "1                  NaN                  NaN                NaN          NaN   \n",
       "2                  NaN                  NaN                NaN          NaN   \n",
       "3                  NaN                  NaN                NaN          NaN   \n",
       "4                  NaN                  NaN                NaN          NaN   \n",
       "\n",
       "   customer.left_at  \n",
       "0               NaN  \n",
       "1               NaN  \n",
       "2               NaN  \n",
       "3               NaN  \n",
       "4               NaN  \n",
       "\n",
       "[5 rows x 36 columns]"
      ]
     },
     "execution_count": 3,
     "metadata": {},
     "output_type": "execute_result"
    }
   ],
   "source": [
    "df.head()"
   ]
  },
  {
   "cell_type": "code",
   "execution_count": 4,
   "metadata": {},
   "outputs": [
    {
     "data": {
      "text/plain": [
       "id                                       0\n",
       "value                                   20\n",
       "record_type_id                           0\n",
       "activity_target_id                       0\n",
       "record_type.name                         0\n",
       "record_type.form_type                    0\n",
       "record_type.options                      0\n",
       "record_type.activity_type_id             0\n",
       "activity_type.name                       0\n",
       "activity_type.activity_type_group_id     0\n",
       "activity_type.has_multi_records          0\n",
       "activity_type.has_target                 0\n",
       "activity_type.is_instant                57\n",
       "activity_type_group.name                 0\n",
       "activity_target.activity_id              0\n",
       "activity_target.customer_id             57\n",
       "activity_target.user_id                  0\n",
       "activity.started_at                      4\n",
       "activity.finished_at                     6\n",
       "activity.user_id                         0\n",
       "activity.activity_type_id                0\n",
       "activity.local_id                        0\n",
       "customer.name                           57\n",
       "customer.email                          57\n",
       "customer.postcode                       57\n",
       "customer.address                        57\n",
       "customer.phone                          57\n",
       "customer.population                     57\n",
       "customer.room                           57\n",
       "customer.doctor                         57\n",
       "customer.birthdate                      57\n",
       "customer.start_date                     57\n",
       "customer.care_level                     57\n",
       "customer.meal_type                      57\n",
       "customer.sex                            57\n",
       "customer.left_at                        57\n",
       "dtype: int64"
      ]
     },
     "execution_count": 4,
     "metadata": {},
     "output_type": "execute_result"
    }
   ],
   "source": [
    "df.isnull().sum()"
   ]
  },
  {
   "cell_type": "code",
   "execution_count": 5,
   "metadata": {},
   "outputs": [],
   "source": [
    "# Hapus kolom yang semua isinya berisi NaN\n",
    "df_cleaned = df.dropna(axis=1, how='all')"
   ]
  },
  {
   "cell_type": "code",
   "execution_count": 6,
   "metadata": {},
   "outputs": [
    {
     "data": {
      "text/plain": [
       "array(['I-emotion', 'I-temperature', 'I-weight', 'I-diagnosis'],\n",
       "      dtype=object)"
      ]
     },
     "execution_count": 6,
     "metadata": {},
     "output_type": "execute_result"
    }
   ],
   "source": [
    "# Mendapatkan nilai-nilai unik dari kolom 'record_type.name'\n",
    "unique_record_types = df_cleaned['record_type.name'].unique()\n",
    "unique_record_types"
   ]
  },
  {
   "cell_type": "code",
   "execution_count": 7,
   "metadata": {},
   "outputs": [],
   "source": [
    "# Filter data untuk text scenario\n",
    "text_df = df_cleaned[df_cleaned['record_type.name'].isin(['I-temperature', 'I-weight', 'I-diagnosis'])]"
   ]
  },
  {
   "cell_type": "markdown",
   "metadata": {},
   "source": [
    "### Temperature Report"
   ]
  },
  {
   "cell_type": "code",
   "execution_count": 8,
   "metadata": {},
   "outputs": [],
   "source": [
    "# Fungsi untuk membersihkan dan mengkonversi nilai\n",
    "def clean_and_convert(value):\n",
    "    try:\n",
    "        return float(value)\n",
    "    except ValueError:\n",
    "        return value"
   ]
  },
  {
   "cell_type": "code",
   "execution_count": 9,
   "metadata": {},
   "outputs": [],
   "source": [
    "# Fungsi untuk memberikan diagnosis berdasarkan nilai dan tipe catatan\n",
    "def diagnose_temperature(row):\n",
    "    value = clean_and_convert(row['value'])\n",
    "    \n",
    "    if isinstance(value, float):\n",
    "        if value > 37.5:\n",
    "            return 'High temperature'\n",
    "        elif value < 36.0:\n",
    "            return 'Low temperature'\n",
    "        else:\n",
    "            return 'Normal temperature'\n",
    "    else:\n",
    "        return 'Invalid temperature value'"
   ]
  },
  {
   "cell_type": "code",
   "execution_count": 10,
   "metadata": {},
   "outputs": [],
   "source": [
    "# Filter data untuk I-temperature\n",
    "temperature_df = df_cleaned[df_cleaned['record_type.name'] == 'I-temperature'].copy()\n"
   ]
  },
  {
   "cell_type": "code",
   "execution_count": 11,
   "metadata": {},
   "outputs": [],
   "source": [
    "# Terapkan fungsi diagnosis ke setiap baris\n",
    "temperature_df['diagnosis'] = temperature_df.apply(diagnose_temperature, axis=1)"
   ]
  },
  {
   "cell_type": "code",
   "execution_count": 12,
   "metadata": {},
   "outputs": [],
   "source": [
    "# Hitung jumlah setiap diagnosis\n",
    "diagnosis_counts = temperature_df['diagnosis'].value_counts()"
   ]
  },
  {
   "cell_type": "code",
   "execution_count": 13,
   "metadata": {},
   "outputs": [
    {
     "data": {
      "image/png": "[encoded data removed]",
      "text/plain": [
       "<Figure size 800x600 with 1 Axes>"
      ]
     },
     "metadata": {},
     "output_type": "display_data"
    }
   ],
   "source": [
    "# Buat pie chart\n",
    "plt.figure(figsize=(8, 6))\n",
    "plt.pie(diagnosis_counts, labels=diagnosis_counts.index, autopct='%1.1f%%', startangle=140)\n",
    "plt.title('Diagnosis Distribution for Temperature')\n",
    "plt.show()"
   ]
  },
  {
   "cell_type": "markdown",
   "metadata": {},
   "source": [
    "### Weight Report"
   ]
  },
  {
   "cell_type": "code",
   "execution_count": 14,
   "metadata": {},
   "outputs": [],
   "source": [
    "# Filter data untuk I-weight\n",
    "weight_df = df_cleaned[df_cleaned['record_type.name'] == 'I-weight'].copy()"
   ]
  },
  {
   "cell_type": "code",
   "execution_count": 15,
   "metadata": {},
   "outputs": [],
   "source": [
    "# Fungsi untuk memberikan diagnosis berdasarkan nilai dan tipe catatan\n",
    "def diagnose_weight(row):\n",
    "    value = clean_and_convert(row['value'])\n",
    "\n",
    "    if isinstance(value, float):\n",
    "        if value > 80:\n",
    "            return 'Overweight'\n",
    "        elif value < 50:\n",
    "                return 'Underweight'\n",
    "        else:\n",
    "                return 'Normal weight'\n",
    "    else:\n",
    "            return 'Invalid weight value'\n",
    "    \n",
    "        "
   ]
  },
  {
   "cell_type": "code",
   "execution_count": 16,
   "metadata": {},
   "outputs": [],
   "source": [
    "# Terapkan fungsi diagnosis ke setiap baris\n",
    "weight_df['diagnosis'] = weight_df.apply(diagnose_weight, axis=1)"
   ]
  },
  {
   "cell_type": "code",
   "execution_count": 17,
   "metadata": {},
   "outputs": [],
   "source": [
    "# Hitung jumlah setiap diagnosis\n",
    "diagnosis_counts = weight_df['diagnosis'].value_counts()\n"
   ]
  },
  {
   "cell_type": "code",
   "execution_count": 18,
   "metadata": {},
   "outputs": [
    {
     "data": {
      "image/png": "[encoded data removed]",
      "text/plain": [
       "<Figure size 800x600 with 1 Axes>"
      ]
     },
     "metadata": {},
     "output_type": "display_data"
    }
   ],
   "source": [
    "# Buat pie chart\n",
    "plt.figure(figsize=(8, 6))\n",
    "plt.pie(diagnosis_counts, labels=diagnosis_counts.index, autopct='%1.1f%%', startangle=140)\n",
    "plt.title('Diagnosis Distribution for Weight')\n",
    "plt.show()"
   ]
  },
  {
   "cell_type": "markdown",
   "metadata": {},
   "source": [
    "### Diagnose Report"
   ]
  },
  {
   "cell_type": "code",
   "execution_count": 26,
   "metadata": {},
   "outputs": [],
   "source": [
    "# Filter data untuk I-diagnose\n",
    "diagnose_df = df_cleaned[df_cleaned['record_type.name'] == 'I-diagnosis'].copy()"
   ]
  },
  {
   "cell_type": "code",
   "execution_count": 33,
   "metadata": {},
   "outputs": [],
   "source": [
    "# Menghapus baris dengan nilai NaN pada kolom 'value'\n",
    "diagnose_df.dropna(subset=['value'], inplace=True)"
   ]
  },
  {
   "cell_type": "code",
   "execution_count": 34,
   "metadata": {},
   "outputs": [],
   "source": [
    "# Fungsi untuk mengklasifikasi diagnosis\n",
    "def diagnosis_text(text):\n",
    "    tokens = word_tokenize(text.lower())  # Tokenisasi dan konversi ke huruf kecil\n",
    "    stop_words = set(stopwords.words('english'))  # Daftar kata-kata stop bahasa Inggris\n",
    "    filtered_tokens = [w for w in tokens if not w in stop_words]  # Hapus stop words\n",
    "            \n",
    "    # Kata kunci yang menunjukkan akut\n",
    "    acute_keywords = ['acute', 'severe', 'urgent', 'critical', 'intense']\n",
    "            \n",
    "    # Periksa apakah ada kata kunci akut dalam teks\n",
    "    if any(keyword in filtered_tokens for keyword in acute_keywords):\n",
    "        return 'Acute'\n",
    "    else:\n",
    "        return 'Not acute'"
   ]
  },
  {
   "cell_type": "code",
   "execution_count": 35,
   "metadata": {},
   "outputs": [],
   "source": [
    "# Terapkan fungsi diagnosis ke setiap baris\n",
    "diagnose_df['diagnosis'] = diagnose_df['value'].apply(diagnosis_text)"
   ]
  },
  {
   "cell_type": "code",
   "execution_count": 36,
   "metadata": {},
   "outputs": [
    {
     "data": {
      "image/png": "[encoded data removed]",
      "text/plain": [
       "<Figure size 800x600 with 1 Axes>"
      ]
     },
     "metadata": {},
     "output_type": "display_data"
    }
   ],
   "source": [
    "# Buat pie chart untuk I-diagnosis\n",
    "diagnosis_counts = diagnose_df['diagnosis'].value_counts()\n",
    "\n",
    "plt.figure(figsize=(8, 6))\n",
    "plt.pie(diagnosis_counts, labels=diagnosis_counts.index, autopct='%1.1f%%', startangle=140)\n",
    "plt.title('Diagnosis Distribution for I-diagnosis')\n",
    "plt.show()"
   ]
  },
  {
   "cell_type": "code",
   "execution_count": null,
   "metadata": {},
   "outputs": [],
   "source": []
  }
 ],
 "metadata": {
  "kernelspec": {
   "display_name": "langchain",
   "language": "python",
   "name": "python3"
  },
  "language_info": {
   "codemirror_mode": {
    "name": "ipython",
    "version": 3
   },
   "file_extension": ".py",
   "mimetype": "text/x-python",
   "name": "python",
   "nbconvert_exporter": "python",
   "pygments_lexer": "ipython3",
   "version": "3.12.1"
  }
 },
 "nbformat": 4,
 "nbformat_minor": 2
}
